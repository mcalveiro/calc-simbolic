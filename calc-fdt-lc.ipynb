{
  "nbformat": 4,
  "nbformat_minor": 0,
  "metadata": {
    "colab": {
      "provenance": [],
      "authorship_tag": "ABX9TyOaP3pHTEZyfFhsdysn1DTV",
      "include_colab_link": true
    },
    "kernelspec": {
      "name": "python3",
      "display_name": "Python 3"
    },
    "language_info": {
      "name": "python"
    }
  },
  "cells": [
    {
      "cell_type": "markdown",
      "metadata": {
        "id": "view-in-github",
        "colab_type": "text"
      },
      "source": [
        "<a href=\"https://colab.research.google.com/github/mcalveiro/calc-simbolic/blob/main/calc-fdt-lc.ipynb\" target=\"_parent\"><img src=\"https://colab.research.google.com/assets/colab-badge.svg\" alt=\"Open In Colab\"/></a>"
      ]
    },
    {
      "cell_type": "code",
      "execution_count": null,
      "metadata": {
        "id": "gvCmCiOA62aX"
      },
      "outputs": [],
      "source": [
        "from sympy import symbols, simplify, expand, apart"
      ]
    },
    {
      "cell_type": "code",
      "source": [
        "from sympy import latex"
      ],
      "metadata": {
        "id": "N2wR9WHjI35g"
      },
      "execution_count": null,
      "outputs": []
    },
    {
      "cell_type": "code",
      "source": [
        "# Definir las variables simbólicas\n",
        "s, kd, kp, ki, k, a, kt = symbols('s kd kp ki k a kt')"
      ],
      "metadata": {
        "id": "8mGQQu_o8-4u"
      },
      "execution_count": null,
      "outputs": []
    },
    {
      "cell_type": "code",
      "source": [
        "# Definir las expresiones de los bloques\n",
        "block1 = kd * (s**2 + (kp/kd)*s + ki/kd)\n",
        "block2 = k / (s + a)\n",
        "block3 = kt"
      ],
      "metadata": {
        "id": "Hae0cCFU9NSo"
      },
      "execution_count": null,
      "outputs": []
    },
    {
      "cell_type": "code",
      "source": [
        "# Realizar la operación en serie\n",
        "system_series = simplify(block1 * block2 + block3)"
      ],
      "metadata": {
        "id": "X3hUZ8YSPXKq"
      },
      "execution_count": null,
      "outputs": []
    },
    {
      "cell_type": "code",
      "source": [
        "# Mostrar la expresión resultante en serie\n",
        "print(\"Expresión resultante en serie:\")\n",
        "print(system_series)"
      ],
      "metadata": {
        "colab": {
          "base_uri": "https://localhost:8080/"
        },
        "id": "TgovP8kvPhVO",
        "outputId": "5cc0e2f5-7104-41a3-c1f4-901020a71b7c"
      },
      "execution_count": null,
      "outputs": [
        {
          "output_type": "stream",
          "name": "stdout",
          "text": [
            "Expresión resultante en serie:\n",
            "(k*(kd*s**2 + ki + kp*s) + kt*(a + s))/(a + s)\n"
          ]
        }
      ]
    },
    {
      "cell_type": "code",
      "source": [
        "# Obtener la representación LaTeX de la expresión\n",
        "latex_expression_series = latex(system_series)"
      ],
      "metadata": {
        "id": "2QO7agCoPk7E"
      },
      "execution_count": null,
      "outputs": []
    },
    {
      "cell_type": "code",
      "source": [
        "# Imprimir la expresión en formato LaTeX\n",
        "print(\"Expresión en formato LaTeX:\")\n",
        "print(latex_expression_series)"
      ],
      "metadata": {
        "colab": {
          "base_uri": "https://localhost:8080/"
        },
        "id": "gUKJiBlzPxZ0",
        "outputId": "55add64b-e010-4243-af1d-64de05a4e188"
      },
      "execution_count": null,
      "outputs": [
        {
          "output_type": "stream",
          "name": "stdout",
          "text": [
            "Expresión en formato LaTeX:\n",
            "\\frac{k \\left(kd s^{2} + ki + kp s\\right) + kt \\left(a + s\\right)}{a + s}\n"
          ]
        }
      ]
    },
    {
      "cell_type": "code",
      "source": [],
      "metadata": {
        "id": "U6Cy4KisP4Fm"
      },
      "execution_count": null,
      "outputs": []
    }
  ]
}