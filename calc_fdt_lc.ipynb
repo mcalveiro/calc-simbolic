{
  "nbformat": 4,
  "nbformat_minor": 0,
  "metadata": {
    "colab": {
      "provenance": [],
      "authorship_tag": "ABX9TyOlbdHpnviQTHJ+h9lm9gLA",
      "include_colab_link": true
    },
    "kernelspec": {
      "name": "python3",
      "display_name": "Python 3"
    },
    "language_info": {
      "name": "python"
    }
  },
  "cells": [
    {
      "cell_type": "markdown",
      "metadata": {
        "id": "view-in-github",
        "colab_type": "text"
      },
      "source": [
        "<a href=\"https://colab.research.google.com/github/mcalveiro/calc-simbolic/blob/main/calc_fdt_lc.ipynb\" target=\"_parent\"><img src=\"https://colab.research.google.com/assets/colab-badge.svg\" alt=\"Open In Colab\"/></a>"
      ]
    },
    {
      "cell_type": "code",
      "execution_count": 1,
      "metadata": {
        "id": "gvCmCiOA62aX"
      },
      "outputs": [],
      "source": [
        "from sympy import symbols, simplify, expand, apart"
      ]
    },
    {
      "cell_type": "code",
      "source": [
        "from sympy import latex"
      ],
      "metadata": {
        "id": "N2wR9WHjI35g"
      },
      "execution_count": 17,
      "outputs": []
    },
    {
      "cell_type": "code",
      "source": [
        "# Definir las variables simbólicas\n",
        "s, kd, kp, ki, k, a, kt = symbols('s kd kp ki k a kt')"
      ],
      "metadata": {
        "id": "8mGQQu_o8-4u"
      },
      "execution_count": 7,
      "outputs": []
    },
    {
      "cell_type": "code",
      "source": [
        "# Definir las expresiones de los bloques\n",
        "block1 = kd * (s**2 + (kp/kd)*s + ki/kd)\n",
        "block2 = k / (s + a)"
      ],
      "metadata": {
        "id": "Hae0cCFU9NSo"
      },
      "execution_count": 8,
      "outputs": []
    },
    {
      "cell_type": "code",
      "source": [
        "# Calcular el sistema en serie\n",
        "system_series = simplify(expand(block1 * block2))"
      ],
      "metadata": {
        "id": "3UQ_FdhP9ZKb"
      },
      "execution_count": 9,
      "outputs": []
    },
    {
      "cell_type": "code",
      "source": [
        "# Puedes mostrar la expresión simplificada\n",
        "print(\"Sistema en serie simplificado:\")\n",
        "print(system_series)"
      ],
      "metadata": {
        "colab": {
          "base_uri": "https://localhost:8080/"
        },
        "id": "jZ5DdqK49cZt",
        "outputId": "64cd0cec-cc7f-43d0-90f8-f0783439b158"
      },
      "execution_count": 10,
      "outputs": [
        {
          "output_type": "stream",
          "name": "stdout",
          "text": [
            "Sistema en serie simplificado:\n",
            "k*(kd*s**2 + ki + kp*s)/(a + s)\n"
          ]
        }
      ]
    },
    {
      "cell_type": "code",
      "source": [
        "block3 = kt"
      ],
      "metadata": {
        "id": "EXpwiUgzCAKG"
      },
      "execution_count": 11,
      "outputs": []
    },
    {
      "cell_type": "code",
      "source": [
        "system_parallel = simplify(expand(system_series / block3))"
      ],
      "metadata": {
        "id": "NK6g-3ajCdIy"
      },
      "execution_count": 12,
      "outputs": []
    },
    {
      "cell_type": "code",
      "source": [
        "print(system_parallel)"
      ],
      "metadata": {
        "colab": {
          "base_uri": "https://localhost:8080/"
        },
        "id": "fOBthUOpFu8u",
        "outputId": "0f4b21e4-d036-4bc1-e9c8-2ad998576268"
      },
      "execution_count": 15,
      "outputs": [
        {
          "output_type": "stream",
          "name": "stdout",
          "text": [
            "k*(kd*s**2 + ki + kp*s)/(kt*(a + s))\n"
          ]
        }
      ]
    },
    {
      "cell_type": "code",
      "source": [
        "# Obtener la representación LaTeX de la expresión\n",
        "latex_expression = latex(system_parallel)"
      ],
      "metadata": {
        "id": "M79jYVizIbhO"
      },
      "execution_count": 18,
      "outputs": []
    },
    {
      "cell_type": "code",
      "source": [
        "# Imprimir la expresión en formato LaTeX\n",
        "print(\"Expresión en formato LaTeX:\")\n",
        "print(latex_expression)"
      ],
      "metadata": {
        "colab": {
          "base_uri": "https://localhost:8080/"
        },
        "id": "COKoKSpxJATq",
        "outputId": "892b36bc-4dc4-46e6-de90-9fc1bb3ce376"
      },
      "execution_count": 19,
      "outputs": [
        {
          "output_type": "stream",
          "name": "stdout",
          "text": [
            "Expresión en formato LaTeX:\n",
            "\\frac{k \\left(kd s^{2} + ki + kp s\\right)}{kt \\left(a + s\\right)}\n"
          ]
        }
      ]
    },
    {
      "cell_type": "code",
      "source": [],
      "metadata": {
        "id": "AV58NJzbJDLO"
      },
      "execution_count": null,
      "outputs": []
    }
  ]
}